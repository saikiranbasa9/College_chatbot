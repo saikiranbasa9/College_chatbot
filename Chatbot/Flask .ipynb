{
 "cells": [
  {
   "cell_type": "code",
   "execution_count": 1,
   "metadata": {},
   "outputs": [
    {
     "name": "stdout",
     "output_type": "stream",
     "text": [
      "welcome to pyMongo\n",
      "MongoClient(host=['cluster0-shard-00-01.bl0on.mongodb.net:27017', 'cluster0-shard-00-00.bl0on.mongodb.net:27017', 'cluster0-shard-00-02.bl0on.mongodb.net:27017'], document_class=dict, tz_aware=False, connect=True, retrywrites=True, w='majority', authsource='admin', replicaset='atlas-q1284a-shard-0', ssl=True)\n"
     ]
    }
   ],
   "source": [
    "import pymongo\n",
    "from fastapi import FastAPI\n",
    "if __name__==\"__main__\":\n",
    "    print(\"welcome to pyMongo\")\n",
    "    client = pymongo.MongoClient(\"mongodb+srv://saikiran9298:<saikiran9298>@cluster0.bl0on.mongodb.net/college_chatbot?retryWrites=true&w=majority\")\n",
    "    db = client.test  \n",
    "    print(client)\n",
    "    \n",
    "app = FastAPI()"
   ]
  },
  {
   "cell_type": "code",
   "execution_count": 24,
   "metadata": {},
   "outputs": [],
   "source": [
    "@app.route('/webhook',methods=[\"GET\",\"POST\"])\n",
    "async def webhook():\n",
    "    req=request.json(force=True)\n",
    "    session=req[\"session\"]\n",
    "    query=req[\"queryResult\"][\"queryText\"]\n",
    "    result=req[\"queryResult\"][\"fulfillment\"]\n",
    "    data={\"Query\":query,\n",
    "         \"Result\":result}\n",
    "    mycol=mydb[\"session\"]\n",
    "    mycol.insert(data,check_keys=False)\n",
    "    return "
   ]
  }
 ],
 "metadata": {
  "kernelspec": {
   "display_name": "Python 3",
   "language": "python",
   "name": "python3"
  },
  "language_info": {
   "codemirror_mode": {
    "name": "ipython",
    "version": 3
   },
   "file_extension": ".py",
   "mimetype": "text/x-python",
   "name": "python",
   "nbconvert_exporter": "python",
   "pygments_lexer": "ipython3",
   "version": "3.8.5"
  }
 },
 "nbformat": 4,
 "nbformat_minor": 4
}
