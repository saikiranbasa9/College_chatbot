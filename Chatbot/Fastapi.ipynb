{
 "cells": [
  {
   "cell_type": "code",
   "execution_count": null,
   "metadata": {},
   "outputs": [],
   "source": [
    "!pip uninstall bson"
   ]
  },
  {
   "cell_type": "code",
   "execution_count": null,
   "metadata": {},
   "outputs": [],
   "source": [
    "!pip install pymongo\n",
    "import pymongo\n",
    "from fastapi import FastAPI\n",
    "if __name__==\"__main__\":\n",
    "    client = pymongo.MongoClient(\"mongodb+srv://saikiran9298:<saikiran9298>@cluster0.bl0on.mongodb.net/college_chatbot?retryWrites=true&w=majority\")\n",
    "    db = client.test  \n",
    "    print(client)\n",
    "    \n",
    "app = FastAPI()"
   ]
  },
  {
   "cell_type": "code",
   "execution_count": null,
   "metadata": {},
   "outputs": [],
   "source": [
    "db = client.college_chatbot\n",
    "collection_name = db[\"faq\"]"
   ]
  },
  {
   "cell_type": "code",
   "execution_count": null,
   "metadata": {},
   "outputs": [],
   "source": [
    "from pydantic import BaseModel\n",
    "class faq(BaseModel):\n",
    "    id: str\n",
    "    bot: str\n",
    "    user: str"
   ]
  },
  {
   "cell_type": "code",
   "execution_count": null,
   "metadata": {},
   "outputs": [],
   "source": [
    "def faq_serializer(faq) -> dict:\n",
    "    return {\n",
    "        \"id\": str(faqs[\"_id\"]),\n",
    "        \"bot\": faqs[\"bot\"],\n",
    "        \"user\": faqs[\"user\"],\n",
    "    }\n",
    "\n",
    "def faqs_serializer(faqs) -> list:\n",
    "    return [faq_serializer(faq) for faq in faqs]"
   ]
  },
  {
   "cell_type": "code",
   "execution_count": null,
   "metadata": {},
   "outputs": [],
   "source": [
    "from fastapi import APIRouter\n",
    "#from models.faqs_model import faq\n",
    "#from config.database import collection_name\n",
    "from schemas.faqs_schema import faqs_serializer, faq_serializer\n",
    "from bson import ObjectId\n",
    "\n",
    "faq_api_router = APIRouter()\n",
    "\n",
    "# retrieve\n",
    "@faq_api_router.get(\"/\")\n",
    "async def get_faqss():\n",
    "    faqs = faqss_serializer(collection_name.find())\n",
    "    return faqs\n",
    "\n",
    "@faq_api_router.get(\"/{id}\")\n",
    "async def get_faq(id: str):\n",
    "    return faqs_serializer(collection_name.find_one({\"_id\": ObjectId(id)}))\n",
    "\n",
    "\n",
    "# post\n",
    "@faq_api_router.post(\"/\")\n",
    "async def create_faq(todo: Todo):\n",
    "    _id = collection_name.insert_one(dict(todo))\n",
    "    return todos_serializer(collection_name.find({\"_id\": _id.inserted_id}))\n",
    "\n",
    "\n",
    "# update\n",
    "@faq_api_router.put(\"/{id}\")\n",
    "async def update_faq(id: str, faq: Faq):\n",
    "    collection_name.find_one_and_update({\"_id\": ObjectId(id)}, {\n",
    "        \"$set\": dict(faq)\n",
    "    })\n",
    "    return faqs_serializer(collection_name.find({\"_id\": ObjectId(id)}))\n",
    "\n",
    "# delete\n",
    "@faq_api_router.delete(\"/{id}\")\n",
    "async def delete_faq(id: str):\n",
    "    collection_name.find_one_and_delete({\"_id\": ObjectId(id)})\n",
    "    return {\"status\": \"ok\"}\n"
   ]
  }
 ],
 "metadata": {
  "kernelspec": {
   "display_name": "Python 3",
   "language": "python",
   "name": "python3"
  },
  "language_info": {
   "codemirror_mode": {
    "name": "ipython",
    "version": 3
   },
   "file_extension": ".py",
   "mimetype": "text/x-python",
   "name": "python",
   "nbconvert_exporter": "python",
   "pygments_lexer": "ipython3",
   "version": "3.8.5"
  }
 },
 "nbformat": 4,
 "nbformat_minor": 4
}
