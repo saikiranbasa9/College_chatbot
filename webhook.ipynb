{
 "cells": [
  {
   "cell_type": "code",
   "execution_count": 1,
   "id": "58194f4c",
   "metadata": {},
   "outputs": [],
   "source": [
    "import pymongo\n",
    "import dns\n",
    "from pydantic import BaseModel\n",
    "from fastapi import FastAPI, Request"
   ]
  },
  {
   "cell_type": "code",
   "execution_count": 2,
   "id": "c8530253",
   "metadata": {},
   "outputs": [],
   "source": [
    "client = pymongo.MongoClient(\"mongodb://saikiran9298:<password>@cluster0.bl0on.mongodb.net/myFirstDatabase?retryWrites=true&w=majority\")\n",
    "db = client.test\n",
    "db= client[\"College_Chatbot\"]\n",
    "coll = db[\"FAQs\"]\n"
   ]
  },
  {
   "cell_type": "code",
   "execution_count": 3,
   "id": "8b86bd79",
   "metadata": {},
   "outputs": [],
   "source": [
    "app = FastAPI()"
   ]
  },
  {
   "cell_type": "code",
   "execution_count": 4,
   "id": "449d6a7e",
   "metadata": {},
   "outputs": [],
   "source": [
    "async def fetch_one_todo(title):\n",
    "    document = await collection.find_one({\"query\": query})\n",
    "    return document\n",
    "\n",
    "async def fetch_all_todos():\n",
    "    todos = []\n",
    "    cursor = collection.find({})\n",
    "    async for document in cursor:\n",
    "        todos.append(Todo(**document))\n",
    "    return todos"
   ]
  },
  {
   "cell_type": "code",
   "execution_count": 5,
   "id": "8a2a696d",
   "metadata": {},
   "outputs": [],
   "source": [
    "@app.get(\"/webhook\")\n",
    "async def fetch_one(title):\n",
    "    document = await collection.find_one({\"query\": query})\n",
    "    return document"
   ]
  },
  {
   "cell_type": "code",
   "execution_count": 6,
   "id": "87519d53",
   "metadata": {},
   "outputs": [],
   "source": [
    "@app.post('/webhook')\n",
    "def read_root(item_id: str,int, request: Request):\n",
    "    req = request.client.host\n",
    "    session=req[\"agentId\"]\n",
    "    query=req[\"queryResult\"][\"queryText\"]\n",
    "    result=req[\"queryResult\"][\"fulfillmentText\"]\n",
    "    data={\"query\":query,\"result\":result}\n",
    "    mycol=mydb[\"College_Chatbot\"]\n",
    "    mycol.insert(data,check_keys=False)"
   ]
  }
 ],
 "metadata": {
  "kernelspec": {
   "display_name": "Python 3 (ipykernel)",
   "language": "python",
   "name": "python3"
  },
  "language_info": {
   "codemirror_mode": {
    "name": "ipython",
    "version": 3
   },
   "file_extension": ".py",
   "mimetype": "text/x-python",
   "name": "python",
   "nbconvert_exporter": "python",
   "pygments_lexer": "ipython3",
   "version": "3.9.7"
  }
 },
 "nbformat": 4,
 "nbformat_minor": 5
}
